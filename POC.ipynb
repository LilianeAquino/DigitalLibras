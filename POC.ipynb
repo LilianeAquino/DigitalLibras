{
 "cells": [
  {
   "cell_type": "code",
   "execution_count": null,
   "metadata": {},
   "outputs": [],
   "source": [
    "from PIL import Image\n",
    "import pytesseract as ocr\n",
    "import cv2\n",
    "import numpy as np"
   ]
  },
  {
   "cell_type": "code",
   "execution_count": null,
   "metadata": {},
   "outputs": [],
   "source": [
    "#Imagem de teste 1"
   ]
  },
  {
   "cell_type": "markdown",
   "metadata": {},
   "source": [
    "![title](test.jpeg)"
   ]
  },
  {
   "cell_type": "code",
   "execution_count": null,
   "metadata": {},
   "outputs": [],
   "source": [
    "frase = ocr.image_to_string(Image.open('test.jpeg'), lang='por')\n",
    "print(frase)"
   ]
  },
  {
   "cell_type": "code",
   "execution_count": null,
   "metadata": {},
   "outputs": [],
   "source": [
    "# tipando a leitura para os canais de ordem RGB\n",
    "imagem = Image.open('test.jpeg').convert('RGB')\n",
    "\n",
    "# convertendo em um array editável de numpy[x, y, CANALS]\n",
    "npimagem = np.asarray(imagem).astype(np.uint8)  \n",
    "\n",
    "# diminuição dos ruidos antes da binarização\n",
    "npimagem[:, :, 0] = 0 # zerando o canal R (RED)\n",
    "npimagem[:, :, 2] = 0 # zerando o canal B (BLUE)\n",
    "\n",
    "# atribuição em escala de cinza\n",
    "im = cv2.cvtColor(npimagem, cv2.COLOR_RGB2GRAY) \n",
    "\n",
    "# aplicação da truncagem binária para a intensidade\n",
    "# pixels de intensidade de cor abaixo de 127 serão convertidos para 0 (PRETO)\n",
    "# pixels de intensidade de cor acima de 127 serão convertidos para 255 (BRANCO)\n",
    "# A atrubição do THRESH_OTSU incrementa uma análise inteligente dos nivels de truncagem\n",
    "ret, thresh = cv2.threshold(im, 127, 255, cv2.THRESH_BINARY | cv2.THRESH_OTSU) \n",
    "\n",
    "# reconvertendo o retorno do threshold em um objeto do tipo PIL.Image\n",
    "binimagem = Image.fromarray(thresh) \n",
    "\n",
    "# chamada ao tesseract OCR por meio de seu wrapper\n",
    "frase = ocr.image_to_string(binimagem, lang='por')\n",
    "\n",
    "# impressão do resultado\n",
    "print(frase) "
   ]
  },
  {
   "cell_type": "code",
   "execution_count": null,
   "metadata": {},
   "outputs": [],
   "source": [
    "#Imagem de teste 2"
   ]
  },
  {
   "cell_type": "markdown",
   "metadata": {},
   "source": [
    "![title](example_01.jpg)"
   ]
  },
  {
   "cell_type": "markdown",
   "metadata": {},
   "source": [
    "O detector de texto EAST da OpenCV é um modelo de aprendizagem profunda, baseado em uma nova arquitetura e padrão de treinamento para detecção de texto em imagens."
   ]
  },
  {
   "cell_type": "markdown",
   "metadata": {},
   "source": [
    "Supressão não-máxima é o processo de afinamento de bordas. É a supressão de valores de pixels que não forem máximos locais na direção transversal à borda."
   ]
  },
  {
   "cell_type": "markdown",
   "metadata": {},
   "source": [
    "O módulo argparse lida com os argumentos da linha de comando."
   ]
  },
  {
   "cell_type": "code",
   "execution_count": null,
   "metadata": {},
   "outputs": [],
   "source": [
    "from imutils.object_detection import non_max_suppression\n",
    "import argparse\n",
    "import sys"
   ]
  },
  {
   "cell_type": "markdown",
   "metadata": {},
   "source": [
    "Usa um detector de texto baseado em aprendizado para detectar (não reconhecer) regiões de texto em uma imagem.\n",
    "O detector de texto produz duas matrizes, uma contendo a probabilidade de uma determinada área contendo texto e outra que mapeia a pontuação para uma localização de caixa delimitadora na imagem de entrada."
   ]
  },
  {
   "cell_type": "code",
   "execution_count": null,
   "metadata": {},
   "outputs": [],
   "source": [
    "def decode_predictions(scores, geometry):\n",
    "    # pegue o número de linhas e colunas do volume de pontuações, então inicializa nosso conjunto de retângulos\n",
    "    #  de caixa delimitadora e correspondentespontuações de confianças\n",
    "    (numRows, numCols) = scores.shape[2:4]\n",
    "    rects = []\n",
    "    confidences = []\n",
    " \n",
    "    for y in range(0, numRows):\n",
    "    # extrair as pontuações (probabilidades), seguidas dos dados geométricos usados para derivar a caixa delimitadora\n",
    "    # potencial coordenadas que circundam o texto\n",
    "        scoresData = scores[0, 0, y]\n",
    "        xData0 = geometry[0, 0, y]\n",
    "        xData1 = geometry[0, 1, y]\n",
    "        xData2 = geometry[0, 2, y]\n",
    "        xData3 = geometry[0, 3, y]\n",
    "        anglesData = geometry[0, 4, y]\n",
    " \n",
    "    for x in range(0, numCols):\n",
    "        # se a nossa pontuação não tiver probabilidade suficiente,ignore isto\n",
    "        if scoresData[x] < 0.5:\n",
    "            continue\n",
    "            \n",
    "    # calcula o fator de offset como nosso recurso resultante. Maps será 4x menor que a imagem de entrada\n",
    "    (offsetX, offsetY) = (x * 4.0, y * 4.0)\n",
    " \n",
    "    # extrair o ângulo de rotação para a previsão e então calcule o seno e cosseno\n",
    "    angle = anglesData[x]\n",
    "    cos = np.cos(angle)\n",
    "    sin = np.sin(angle)\n",
    " \n",
    "    \n",
    "    # use o volume da geometria para obter a largura e a altura da caixa delimitadora\n",
    "    h = xData0[x] + xData2[x]\n",
    "    w = xData1[x] + xData3[x]\n",
    " \n",
    "    # calcula as coordenadas inicial e final (x,y) para a caixa delimitadora de previsão de texto\n",
    "    endX = int(offsetX + (cos * xData1[x]) + (sin * xData2[x]))\n",
    "    endY = int(offsetY - (sin * xData1[x]) + (cos * xData2[x]))\n",
    "    startX = int(endX - w)\n",
    "    startY = int(endY - h)\n",
    " \n",
    "    # adicione as coordenadas da caixa delimitadora e o escore de probabilidade para as nossas respectivas listas\n",
    "    rects.append((startX, startY, endX, endY))\n",
    "    confidences.append(scoresData[x])\n",
    " \n",
    "    # retorna uma tupla das caixas delimitadoras e confidências associadas\n",
    "    return (rects, confidences)"
   ]
  },
  {
   "cell_type": "markdown",
   "metadata": {},
   "source": [
    "Carrega a imagem, aplica o pré-processamento e inicializa as variáveis-chave"
   ]
  },
  {
   "cell_type": "code",
   "execution_count": null,
   "metadata": {},
   "outputs": [],
   "source": [
    "#carrega a imagem de entrada, cria uma cópia e pega as dimensões da imagem\n",
    "image = cv2.imread('example_01.jpg')\n",
    "orig = image.copy()\n",
    "(origH, origW) = image.shape[:2]\n",
    "\n",
    "#defini a nova largura e altura e, em seguida, determinar a relação em mudança para ambas\n",
    "(newW, newH) = (320, 320)\n",
    "rW = origW / float(newW)\n",
    "rH = origH / float(newH)\n",
    "\n",
    "#redimensiona a imagem e pega as novas dimensões da imagem\n",
    "image = cv2.resize(image, (newW, newH))\n",
    "(H, W) = image.shape[:2]"
   ]
  },
  {
   "cell_type": "markdown",
   "metadata": {},
   "source": [
    "Detector de texto EAST: Oa dois nomes de camadas de saída são colocados em forma de lista. Em seguida, a rede neural EAST pré-treinada é carregada na memória."
   ]
  },
  {
   "cell_type": "code",
   "execution_count": null,
   "metadata": {},
   "outputs": [],
   "source": [
    "print(cv2.__version__)"
   ]
  },
  {
   "cell_type": "code",
   "execution_count": null,
   "metadata": {},
   "outputs": [],
   "source": [
    "# define os dois nomes de camadas de saída para o modelo de detector EAST que estamos interessados \n",
    "#o primeiro é as probabilidades de saída e o segundo pode ser usado para derivar as coordenadas da caixa del.\n",
    "layerNames = [\n",
    "    \"feature_fusion/Conv_7/Sigmoid\",\n",
    "    \"feature_fusion/concat_3\"]\n",
    "\n",
    "# carregar o detector de texto EAST pré-treinado\n",
    "print(\"[INFO] loading EAST text detector...\")\n",
    "net = cv2.dnn.readNet('frozen_east_text_detection.pb')"
   ]
  },
  {
   "cell_type": "markdown",
   "metadata": {},
   "source": [
    "Para determinar localizações de texto:\n",
    "\n",
    "Constrói um blob e o passa através da rede neural, obtendo pontuações e geometria. Decodifica as previsões com a   função decode_predictions e aplica a  supressão não-máxima através do método de imutils.\n",
    "\n",
    "A NMS usa efetivamente as regiões de texto mais prováveis, eliminando outras regiões sobrepostas."
   ]
  },
  {
   "cell_type": "code",
   "execution_count": null,
   "metadata": {},
   "outputs": [],
   "source": [
    "# construa um blob a partir da imagem e, em seguida, execute um passe para o modelo para obter \n",
    "#os dois conjuntos de camadas de saída\n",
    "blob = cv2.dnn.blobFromImage(image, 1.0, (W, H),\n",
    "    (123.68, 116.78, 103.94), swapRB=True, crop=False)\n",
    "net.setInput(blob)\n",
    "(scores, geometry) = net.forward(layerNames)\n",
    "\n",
    "# decodifique as previsões e aplique a supressão não máxima\n",
    "(rects, confidences) = decode_predictions(scores, geometry)\n",
    "boxes = non_max_suppression(np.array(rects), probs=confidences)"
   ]
  },
  {
   "cell_type": "markdown",
   "metadata": {},
   "source": [
    "Reconhecimento do texto."
   ]
  },
  {
   "cell_type": "code",
   "execution_count": null,
   "metadata": {},
   "outputs": [],
   "source": [
    "# inicialize a lista de resultados\n",
    "results = []\n",
    "\n",
    "# loop sobre as caixas delimitadoras\n",
    "for (startX, startY, endX, endY) in boxes:\n",
    "\n",
    "# dimensionar as coordenadas da caixa delimitadora com base nos respectivos índices\n",
    "    startX = int(startX * rW)\n",
    "    startY = int(startY * rH)\n",
    "    endX = int(endX * rW)\n",
    "    endY = int(endY * rH)\n",
    "\n",
    "# para obter um melhor OCR do texto, aplique um pouco de preenchimento ao redor da caixa\n",
    "    dX = int((endX - startX) * 0.0)\n",
    "    dY = int((endY - startY) * 0.0)\n",
    "\n",
    "# aplique preenchimento a cada lado da caixa delimitadora, respectivamente\n",
    "    startX = max(0, startX - dX)\n",
    "    startY = max(0, startY - dY)\n",
    "    endX = min(origW, endX + (dX * 2))\n",
    "    endY = min(origH, endY + (dY * 2))\n",
    "\n",
    "# extrair o ROI real acumulado\n",
    "    roi = orig[startY:endY, startX:endX]"
   ]
  },
  {
   "cell_type": "markdown",
   "metadata": {},
   "source": [
    "Defini os parâmetros de configuração do Tesseract ( idioma inglês , rede neural LSTM e linha única de texto)."
   ]
  },
  {
   "cell_type": "code",
   "execution_count": null,
   "metadata": {},
   "outputs": [],
   "source": [
    "# para aplicar Tesseract, devemos fornecer um idioma, um sinalizador de OEM de 4, indicando que\n",
    "# deseja usar o modelo de rede neural LSTM para OCR e, finalmente, um valor OEM, neste caso, 7 o que implica que \n",
    "# estamos tratando o ROI como uma única linha de texto.\n",
    "    config = (\"-l eng --oem 1 --psm 7\")\n",
    "    text = ocr.image_to_string(roi, config=config)\n",
    "\n",
    "# adicione as coordenadas da caixa delimitadora e o texto com OCR à lista de resultados\n",
    "    results.append(((startX, startY, endX, endY), text))"
   ]
  },
  {
   "cell_type": "markdown",
   "metadata": {},
   "source": [
    "Imprimindo os resultados ordenados de forma ascebdente.\n",
    "\n",
    "Imprime o texto com OCR. Exclui caracteres não-ASCII do texto. Desenha uma caixa delimitadora em torno do ROI e o texto do resultado acima do ROI. Exibe a saída."
   ]
  },
  {
   "cell_type": "code",
   "execution_count": null,
   "metadata": {},
   "outputs": [],
   "source": [
    "# classifica as coordenadas da caixa delimitadora de resultados de cima para baixo\n",
    "results = sorted(results, key=lambda r:r[0][1])\n",
    "\n",
    "# loop sobre os resultados\n",
    "for ((startX, startY, endX, endY), text) in results:\n",
    "    print(\"OCR TEXT\")\n",
    "    print(\"========\")\n",
    "    print(\"{}\\n\".format(text))\n",
    "\n",
    "# tira o texto não-ASCII para que possamos desenhar o texto na imagem\n",
    "# usando o OpenCV, desenhe o texto e uma caixa delimitadora na região de texto da imagem de entrada\n",
    "    text = \"\".join([c if ord(c) < 128 else \"\" for c in text]).strip()\n",
    "    output = orig.copy()\n",
    "    cv2.rectangle(output, (startX, startY), (endX, endY),\n",
    "    (0, 0, 255), 2)\n",
    "    cv2.putText(output, text, (startX, startY - 20),\n",
    "    cv2.FONT_HERSHEY_SIMPLEX, 1.2, (0, 0, 255), 3)\n",
    "\n",
    "# mostra a imagem de saída\n",
    "    cv2.imshow(\"Text Detection\", output)"
   ]
  }
 ],
 "metadata": {
  "kernelspec": {
   "display_name": "Python 3",
   "language": "python",
   "name": "python3"
  },
  "language_info": {
   "codemirror_mode": {
    "name": "ipython",
    "version": 3
   },
   "file_extension": ".py",
   "mimetype": "text/x-python",
   "name": "python",
   "nbconvert_exporter": "python",
   "pygments_lexer": "ipython3",
   "version": "3.6.8"
  }
 },
 "nbformat": 4,
 "nbformat_minor": 2
}
